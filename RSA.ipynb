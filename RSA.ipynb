{
 "cells": [
  {
   "cell_type": "code",
   "execution_count": 7,
   "id": "cc070123",
   "metadata": {},
   "outputs": [],
   "source": [
    "def get_e (n,phi):\n",
    "    for e in range(2,phi):\n",
    "        coprime=True\n",
    "        for x in range(2,e+1):\n",
    "            if(e%x==0 and n%x==0) or (e%x==0 and phi%x==0):\n",
    "                coprime=False\n",
    "                break\n",
    "        if coprime:\n",
    "            return e            "
   ]
  },
  {
   "cell_type": "code",
   "execution_count": 8,
   "id": "4a4d5207",
   "metadata": {},
   "outputs": [],
   "source": [
    "def get_d(e,phi):\n",
    "    d=1\n",
    "    while(d*e)%phi != 1 or d==e :\n",
    "        d+=1\n",
    "    return d"
   ]
  },
  {
   "cell_type": "code",
   "execution_count": 9,
   "id": "4fe09414",
   "metadata": {},
   "outputs": [],
   "source": [
    "def generate_rsa_keys(p,q):\n",
    "    n=p*q\n",
    "    phi=(p-1)*(q-1)\n",
    "    e=get_e(n,phi)\n",
    "    d=get_d(e,phi)\n",
    "    public_key=(e,n)\n",
    "    private_key=(d,n)\n",
    "    return public_key,private_key"
   ]
  },
  {
   "cell_type": "code",
   "execution_count": 10,
   "id": "76f170e7",
   "metadata": {},
   "outputs": [],
   "source": [
    "def encrypt (srcpath,dstpath,public_key):\n",
    "    (e,n)=public_key\n",
    "    with open (srcpath,'rb') as f:\n",
    "        plaintext=f.read()\n",
    "    ciphertext=bytes([(p**e)%n for p in plaintext])\n",
    "    with open (dstpath,'wb') as f:\n",
    "        f.write(ciphertext)"
   ]
  },
  {
   "cell_type": "code",
   "execution_count": 11,
   "id": "649d05fc",
   "metadata": {},
   "outputs": [],
   "source": [
    "def decrypt (srcpath,dstpath,private_key):\n",
    "    (d,n)=private_key\n",
    "    with open (srcpath,'rb') as f:\n",
    "        ciphertext=f.read()\n",
    "    plaintext=bytes([(c**d)%n for c in ciphertext])\n",
    "    with open (dstpath,'wb') as f:\n",
    "        f.write(plaintext)"
   ]
  },
  {
   "cell_type": "code",
   "execution_count": 12,
   "id": "8091c8af",
   "metadata": {},
   "outputs": [
    {
     "name": "stdout",
     "output_type": "stream",
     "text": [
      "(3, 187)\n",
      "(107, 187)\n"
     ]
    }
   ],
   "source": [
    "public_key,private_key=generate_rsa_keys(11,17)\n",
    "print(public_key)\n",
    "print(private_key)"
   ]
  },
  {
   "cell_type": "code",
   "execution_count": 15,
   "id": "9586d0a2",
   "metadata": {},
   "outputs": [],
   "source": [
    "encrypt('salma.txt','rsa_encrypt.txt',public_key)"
   ]
  },
  {
   "cell_type": "code",
   "execution_count": 16,
   "id": "2760c337",
   "metadata": {},
   "outputs": [],
   "source": [
    "encrypt('rsa_encrypt.txt','rsa_decrypt.txt',private_key)"
   ]
  },
  {
   "cell_type": "code",
   "execution_count": null,
   "id": "bddb7839",
   "metadata": {},
   "outputs": [],
   "source": []
  }
 ],
 "metadata": {
  "kernelspec": {
   "display_name": "Python 3 (ipykernel)",
   "language": "python",
   "name": "python3"
  },
  "language_info": {
   "codemirror_mode": {
    "name": "ipython",
    "version": 3
   },
   "file_extension": ".py",
   "mimetype": "text/x-python",
   "name": "python",
   "nbconvert_exporter": "python",
   "pygments_lexer": "ipython3",
   "version": "3.9.13"
  }
 },
 "nbformat": 4,
 "nbformat_minor": 5
}
