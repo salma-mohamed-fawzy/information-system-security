{
 "cells": [
  {
   "cell_type": "code",
   "execution_count": 9,
   "id": "b1e010e7",
   "metadata": {},
   "outputs": [
    {
     "name": "stdout",
     "output_type": "stream",
     "text": [
      "Ciphertext: YDTTAZABTR\n",
      "Plaintext: HELLOWORLD\n"
     ]
    }
   ],
   "source": [
    "def create_maps():\n",
    "    p_alpha='ABCDEFGHIJKLMNOPQRSTUVWXYZ'\n",
    "    c_alpha='VKPRDLNYGXOTIEAQUBWFHJZSMC'\n",
    "    char_map={}\n",
    "    inv_map={}\n",
    "    for p, c in zip( p_alpha, c_alpha):\n",
    "        char_map[p]=c\n",
    "        inv_map[c]=p\n",
    "    return  char_map, inv_map\n",
    "\n",
    "def encrypt (plaintext, char_map):\n",
    "    ciphertext = ''\n",
    "    for p in plaintext:\n",
    "        c =  char_map[p]\n",
    "        ciphertext += c\n",
    "    return ciphertext\n",
    "\n",
    "def decrypt (ciphertext, inv_map):\n",
    "    plaintext = ''\n",
    "    for c in ciphertext:\n",
    "        p =  inv_map[c]\n",
    "        plaintext += p\n",
    "    return plaintext\n",
    "\n",
    "char_map, inv_map=create_maps()\n",
    "ciphertext=encrypt ('HELLOWORLD', char_map)\n",
    "print('Ciphertext:',ciphertext)\n",
    "plaintext=decrypt ('YDTTAZABTR', inv_map)\n",
    "print('Plaintext:',plaintext)"
   ]
  },
  {
   "cell_type": "code",
   "execution_count": null,
   "id": "683ecb3e",
   "metadata": {},
   "outputs": [],
   "source": []
  }
 ],
 "metadata": {
  "kernelspec": {
   "display_name": "Python 3 (ipykernel)",
   "language": "python",
   "name": "python3"
  },
  "language_info": {
   "codemirror_mode": {
    "name": "ipython",
    "version": 3
   },
   "file_extension": ".py",
   "mimetype": "text/x-python",
   "name": "python",
   "nbconvert_exporter": "python",
   "pygments_lexer": "ipython3",
   "version": "3.9.13"
  }
 },
 "nbformat": 4,
 "nbformat_minor": 5
}
