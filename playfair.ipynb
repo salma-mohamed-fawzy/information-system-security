{
 "cells": [
  {
   "cell_type": "code",
   "execution_count": 1,
   "id": "3a3dcea7",
   "metadata": {},
   "outputs": [],
   "source": [
    "import numpy as np\n",
    "def get_matrix(key):\n",
    "    key += 'ABCDEFGHIJKLMNOPQRSTUVWXYZ'\n",
    "    key = key. replace('J', 'I')\n",
    "    matrix = []\n",
    "    for letter in key:\n",
    "        if letter not in matrix:              \n",
    "            matrix.append(letter)\n",
    "    return np.array(matrix).reshape(5, 5)\n",
    "#matrix=get_matrix(\"PLYFAIR\")\n",
    "#print(matrix)"
   ]
  },
  {
   "cell_type": "code",
   "execution_count": 2,
   "id": "dd244eeb",
   "metadata": {},
   "outputs": [],
   "source": [
    "def get_indices(matrix):\n",
    "    indices = {}\n",
    "    for i in range(5):\n",
    "        for j in range(5):\n",
    "            letter = matrix[i, j]\n",
    "            indices[letter] = (i, j)\n",
    "    return indices\n",
    "#indices=get_indices(matrix)\n",
    "#print(indices)"
   ]
  },
  {
   "cell_type": "code",
   "execution_count": 3,
   "id": "9550d8fb",
   "metadata": {},
   "outputs": [],
   "source": [
    "def get_pairs(text):\n",
    "    text = text.replace('J', 'I')\n",
    "    result = ''\n",
    "    for i in range(len(text)-1):\n",
    "        result += text[i]\n",
    "        if text[i] == text[i+1] and len(result)%2==1:\n",
    "            result += 'X'\n",
    "    result += text[-1]\n",
    "    if len(result)%2==1:\n",
    "        result += 'X'\n",
    "    pairs = []\n",
    "    for i in range(0, len(result)-1, 2):\n",
    "        pairs.append(result[i] + result[i+1])\n",
    "    return pairs\n",
    "#print(get_pairs(\"SALMALOLLL\"))"
   ]
  },
  {
   "cell_type": "code",
   "execution_count": 8,
   "id": "52a46a0c",
   "metadata": {},
   "outputs": [],
   "source": [
    "def encrypt(plaintext,key):\n",
    "    matrix=get_matrix(key)\n",
    "    indices=get_indices(matrix)\n",
    "    pairs=get_pairs(plaintext)\n",
    "    ciphertext=''\n",
    "    for a,b in pairs:\n",
    "        r1,c1=indices[a]\n",
    "        r2,c2=indices[b]\n",
    "        #####\n",
    "        if r1==r2:\n",
    "            c1=(c1+1)%5\n",
    "            c2=(c2+1)%5\n",
    "        elif c1==c2:\n",
    "            r1=(r1+1)%5\n",
    "            r2=(r2+1)%5\n",
    "        else:\n",
    "            c1,c2=c2,c1\n",
    "        a=matrix[r1,c1]\n",
    "        b=matrix[r2,c2]\n",
    "        ciphertext+=a+b\n",
    "    return ciphertext\n",
    "\n",
    "#encrypt('SALMA',\"LILA\")"
   ]
  },
  {
   "cell_type": "code",
   "execution_count": 9,
   "id": "b4ed7c68",
   "metadata": {},
   "outputs": [],
   "source": [
    "def decrypt(ciphertext,key):\n",
    "    matrix=get_matrix(key)\n",
    "    indices=get_indices(matrix)\n",
    "    pairs=get_pairs(ciphertext)\n",
    "    plaintext=''\n",
    "    for a,b in pairs:\n",
    "        r1,c1=indices[a]\n",
    "        r2,c2=indices[b]\n",
    "        #####\n",
    "        if r1==r2:\n",
    "            c1=(c1-1)%5\n",
    "            c2=(c2-1)%5\n",
    "        elif c1==c2:\n",
    "            r1=(r1-1)%5\n",
    "            r2=(r2-1)%5\n",
    "        else:\n",
    "            c1,c2=c2,c1\n",
    "        a=matrix[r1,c1]\n",
    "        b=matrix[r2,c2]\n",
    "        plaintext+=a+b\n",
    "    return plaintext\n",
    "#decrypt('XFWKFA',\"LILA\")"
   ]
  },
  {
   "cell_type": "code",
   "execution_count": 10,
   "id": "21f2ee7f",
   "metadata": {},
   "outputs": [
    {
     "name": "stdout",
     "output_type": "stream",
     "text": [
      "ciphertext: KZLEVPWIVPBNOQYG\n",
      "plaintext: STARTATXTACKNOWX\n"
     ]
    }
   ],
   "source": [
    "key = 'PLAYFAIREXAMPLE'\n",
    "message = 'STARTATTACKNOW'\n",
    "ciphertext = encrypt(message, key)\n",
    "print('ciphertext:', ciphertext)\n",
    "plaintext = decrypt(ciphertext, key)\n",
    "print('plaintext:', plaintext)"
   ]
  },
  {
   "cell_type": "code",
   "execution_count": null,
   "id": "593de3f5",
   "metadata": {},
   "outputs": [],
   "source": []
  },
  {
   "cell_type": "code",
   "execution_count": null,
   "id": "a7af4959",
   "metadata": {},
   "outputs": [],
   "source": []
  },
  {
   "cell_type": "code",
   "execution_count": null,
   "id": "17beaee0",
   "metadata": {},
   "outputs": [],
   "source": []
  },
  {
   "cell_type": "code",
   "execution_count": null,
   "id": "7afc60b4",
   "metadata": {},
   "outputs": [],
   "source": []
  },
  {
   "cell_type": "code",
   "execution_count": null,
   "id": "9ce4fdd8",
   "metadata": {},
   "outputs": [],
   "source": []
  },
  {
   "cell_type": "code",
   "execution_count": null,
   "id": "4276c4d9",
   "metadata": {},
   "outputs": [],
   "source": []
  },
  {
   "cell_type": "code",
   "execution_count": null,
   "id": "603d14df",
   "metadata": {},
   "outputs": [],
   "source": []
  }
 ],
 "metadata": {
  "kernelspec": {
   "display_name": "Python 3 (ipykernel)",
   "language": "python",
   "name": "python3"
  },
  "language_info": {
   "codemirror_mode": {
    "name": "ipython",
    "version": 3
   },
   "file_extension": ".py",
   "mimetype": "text/x-python",
   "name": "python",
   "nbconvert_exporter": "python",
   "pygments_lexer": "ipython3",
   "version": "3.9.13"
  }
 },
 "nbformat": 4,
 "nbformat_minor": 5
}
