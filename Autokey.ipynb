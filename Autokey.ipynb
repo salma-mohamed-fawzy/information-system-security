{
 "cells": [
  {
   "cell_type": "code",
   "execution_count": 3,
   "id": "2e450628",
   "metadata": {},
   "outputs": [
    {
     "data": {
      "text/plain": [
       "'SALMA'"
      ]
     },
     "execution_count": 3,
     "metadata": {},
     "output_type": "execute_result"
    }
   ],
   "source": [
    "def value (char):\n",
    "    return ord(char)-ord('A')\n",
    "\n",
    "def letter (val):\n",
    "    return chr(val+ ord('A'))\n",
    "\n",
    "def encrypt (plaintext, key):\n",
    "    ciphertext = ''\n",
    "    for p in plaintext:\n",
    "        p_val = value(p)\n",
    "        k_val=value(key)       #new\n",
    "        c_val = (p_val + k_val) % 26\n",
    "        c= letter(c_val)\n",
    "        ciphertext += c\n",
    "        key=p                 #new\n",
    "    return ciphertext\n",
    "\n",
    "def decrypt(ciphertext, key):\n",
    "    plaintext= ''\n",
    "    for c in ciphertext:\n",
    "        c_val=value(c)\n",
    "        k_val=value(key)       #new\n",
    "        p_val = (c_val - k_val) % 26\n",
    "        p = letter(p_val)\n",
    "        plaintext += p\n",
    "        key=p                #new\n",
    "    return plaintext\n",
    "encrypt(\"SALMA\", 'S')\n",
    "decrypt(\"KSLXM\", 'S')"
   ]
  },
  {
   "cell_type": "code",
   "execution_count": null,
   "id": "9832815b",
   "metadata": {},
   "outputs": [],
   "source": []
  }
 ],
 "metadata": {
  "kernelspec": {
   "display_name": "Python 3 (ipykernel)",
   "language": "python",
   "name": "python3"
  },
  "language_info": {
   "codemirror_mode": {
    "name": "ipython",
    "version": 3
   },
   "file_extension": ".py",
   "mimetype": "text/x-python",
   "name": "python",
   "nbconvert_exporter": "python",
   "pygments_lexer": "ipython3",
   "version": "3.9.13"
  }
 },
 "nbformat": 4,
 "nbformat_minor": 5
}
