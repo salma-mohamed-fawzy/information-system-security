{
 "cells": [
  {
   "cell_type": "code",
   "execution_count": 3,
   "id": "a24df5da",
   "metadata": {},
   "outputs": [],
   "source": [
    "def encrypt (srcpath,dstpath,key):\n",
    "    with open(srcpath,'rb') as f:\n",
    "        plaintext=f.read()\n",
    "    ciphertext=bytes([p^key for p in plaintext])\n",
    "    with open(dstpath,'wb') as f:\n",
    "        f.write(ciphertext)\n",
    "        \n",
    "def decrypt (srcpath,dstpath,key):\n",
    "    with open(srcpath,'rb') as f:\n",
    "        ciphertext=f.read()\n",
    "    plaintext=bytes([p^key for p in ciphertext])\n",
    "    with open(dstpath,'wb') as f:\n",
    "        f.write(plaintext)\n"
   ]
  },
  {
   "cell_type": "code",
   "execution_count": 5,
   "id": "a8a56788",
   "metadata": {},
   "outputs": [],
   "source": [
    "encrypt('salma.txt','encrypted.txt',123)"
   ]
  },
  {
   "cell_type": "code",
   "execution_count": 6,
   "id": "a36c0489",
   "metadata": {},
   "outputs": [],
   "source": [
    "decrypt('encrypted.txt','decrypted.text',123)"
   ]
  },
  {
   "cell_type": "code",
   "execution_count": null,
   "id": "9e3a235f",
   "metadata": {},
   "outputs": [],
   "source": []
  }
 ],
 "metadata": {
  "kernelspec": {
   "display_name": "Python 3 (ipykernel)",
   "language": "python",
   "name": "python3"
  },
  "language_info": {
   "codemirror_mode": {
    "name": "ipython",
    "version": 3
   },
   "file_extension": ".py",
   "mimetype": "text/x-python",
   "name": "python",
   "nbconvert_exporter": "python",
   "pygments_lexer": "ipython3",
   "version": "3.9.13"
  }
 },
 "nbformat": 4,
 "nbformat_minor": 5
}
