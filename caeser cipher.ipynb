{
 "cells": [
  {
   "cell_type": "code",
   "execution_count": 1,
   "id": "a306ccaf",
   "metadata": {},
   "outputs": [
    {
     "name": "stdout",
     "output_type": "stream",
     "text": [
      "ciphertext: UCNOC\n",
      "plaintext: RZKLZ\n"
     ]
    }
   ],
   "source": [
    "N_LETTERS = 26\n",
    "\n",
    "def value(ch):\n",
    "    return ord(ch) - ord('A')\n",
    "\n",
    "    \n",
    "\n",
    "def letter(v):\n",
    "    return chr(v + ord('A'))\n",
    "\n",
    "def encrypt (plaintext, key):\n",
    "    ciphertext = ''\n",
    "    for p in plaintext:\n",
    "        p_val = value(p)\n",
    "        c_val = (p_val + key) % N_LETTERS\n",
    "        c= letter(c_val)\n",
    "        ciphertext += c\n",
    "    return ciphertext\n",
    "\n",
    "def decrypt(ciphertext, key):\n",
    "    plaintext= ''\n",
    "    for c in ciphertext:\n",
    "        c_val=value(c)\n",
    "        p_val = (c_val - key) % N_LETTERS\n",
    "        p = letter(p_val)\n",
    "        plaintext += p\n",
    "    return plaintext\n",
    "\n",
    "ciphertext = encrypt('HELLOWORLD', 3)\n",
    "print('ciphertext:', ciphertext)\n",
    "\n",
    "plaintext = decrypt (ciphertext, 3)\n",
    "print('plaintext:', plaintext)"
   ]
  },
  {
   "cell_type": "code",
   "execution_count": null,
   "id": "610e4568",
   "metadata": {},
   "outputs": [],
   "source": []
  },
  {
   "cell_type": "code",
   "execution_count": null,
   "id": "0b00f8b6",
   "metadata": {},
   "outputs": [],
   "source": []
  },
  {
   "cell_type": "code",
   "execution_count": null,
   "id": "428aa959",
   "metadata": {},
   "outputs": [],
   "source": []
  },
  {
   "cell_type": "code",
   "execution_count": null,
   "id": "868489a7",
   "metadata": {},
   "outputs": [],
   "source": []
  },
  {
   "cell_type": "code",
   "execution_count": null,
   "id": "1cf48ca2",
   "metadata": {},
   "outputs": [],
   "source": []
  },
  {
   "cell_type": "code",
   "execution_count": null,
   "id": "d7a601df",
   "metadata": {},
   "outputs": [],
   "source": []
  },
  {
   "cell_type": "code",
   "execution_count": null,
   "id": "54e91cc1",
   "metadata": {},
   "outputs": [],
   "source": []
  }
 ],
 "metadata": {
  "kernelspec": {
   "display_name": "Python 3 (ipykernel)",
   "language": "python",
   "name": "python3"
  },
  "language_info": {
   "codemirror_mode": {
    "name": "ipython",
    "version": 3
   },
   "file_extension": ".py",
   "mimetype": "text/x-python",
   "name": "python",
   "nbconvert_exporter": "python",
   "pygments_lexer": "ipython3",
   "version": "3.9.13"
  }
 },
 "nbformat": 4,
 "nbformat_minor": 5
}
