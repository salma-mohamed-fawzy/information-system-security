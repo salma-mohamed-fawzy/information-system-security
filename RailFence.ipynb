{
 "cells": [
  {
   "cell_type": "code",
   "execution_count": 1,
   "id": "864ca810",
   "metadata": {},
   "outputs": [],
   "source": [
    "import numpy as np\n",
    "def write_zigzag(plaintext,key):\n",
    "    n_rows=key\n",
    "    n_cols=len(plaintext)\n",
    "    railfence=np.full((n_rows,n_cols),'-')\n",
    "    i=0\n",
    "    increment=1\n",
    "    for j in range(n_cols):\n",
    "        railfence[i,j]=plaintext[j]\n",
    "        i+=increment\n",
    "        if i==n_rows -1 or i==0:\n",
    "            increment*=-1\n",
    "    return railfence"
   ]
  },
  {
   "cell_type": "code",
   "execution_count": 2,
   "id": "1edc1e6b",
   "metadata": {},
   "outputs": [],
   "source": [
    "def read_rows (railfence):\n",
    "    ciphertext=''\n",
    "    for i in range(railfence.shape[0]):\n",
    "        for j in range(railfence.shape[1]):\n",
    "            ch=railfence[i,j]\n",
    "            if ch != '-':\n",
    "                ciphertext+=ch\n",
    "    return ciphertext"
   ]
  },
  {
   "cell_type": "code",
   "execution_count": 3,
   "id": "ec63b931",
   "metadata": {},
   "outputs": [],
   "source": [
    "def write_rows (ciphertext,key):\n",
    "    placeholder='@'*len(ciphertext)\n",
    "    railfence=write_zigzag(placeholder,key)\n",
    "    k=0\n",
    "    for i in range(railfence.shape[0]):\n",
    "        for j in range(railfence.shape[1]):\n",
    "            ch=railfence[i,j]\n",
    "            if ch == '@':\n",
    "                railfence[i,j]=ciphertext[k]\n",
    "                k+=1    \n",
    "    return railfence"
   ]
  },
  {
   "cell_type": "code",
   "execution_count": 4,
   "id": "87b06050",
   "metadata": {},
   "outputs": [],
   "source": [
    "def read_zigzag(railfence):\n",
    "    n_rows=railfence.shape[0]\n",
    "    n_cols=railfence.shape[1]\n",
    "    i=0\n",
    "    increment=1\n",
    "    plaintext=''\n",
    "    for j in range(n_cols):\n",
    "        ch=railfence[i,j]\n",
    "        plaintext+=ch\n",
    "        i+=increment\n",
    "        if i==n_rows -1 or i==0:\n",
    "            increment*=-1\n",
    "    return plaintext"
   ]
  },
  {
   "cell_type": "code",
   "execution_count": 5,
   "id": "d14bc1a6",
   "metadata": {},
   "outputs": [],
   "source": [
    "def encrypt(plaintext , key):\n",
    "    railfence=write_zigzag(plaintext , key)\n",
    "    ciphertext=read_rows(railfence)\n",
    "    print(railfence)\n",
    "    return ciphertext\n",
    "\n",
    "def decrypt(ciphertext , key):\n",
    "    railfence=write_rows(ciphertext , key)\n",
    "    plaintext=read_zigzag(railfence)\n",
    "    #print(railfence)\n",
    "    return plaintext"
   ]
  },
  {
   "cell_type": "code",
   "execution_count": 6,
   "id": "bee30269",
   "metadata": {},
   "outputs": [
    {
     "name": "stdout",
     "output_type": "stream",
     "text": [
      "[['h' '-' '-' '-' 'o' '-' '-' '-' 'r' '-' '-']\n",
      " ['-' 'e' '-' 'l' '-' ' ' '-' 'o' '-' 'l' '-']\n",
      " ['-' '-' 'l' '-' '-' '-' 'w' '-' '-' '-' 'd']]\n",
      "horel ollwd\n"
     ]
    }
   ],
   "source": [
    "message='hello world'\n",
    "key=3\n",
    "cipher=encrypt(message,key)\n",
    "print(cipher)"
   ]
  },
  {
   "cell_type": "code",
   "execution_count": 7,
   "id": "770735e6",
   "metadata": {},
   "outputs": [
    {
     "name": "stdout",
     "output_type": "stream",
     "text": [
      "hello world\n"
     ]
    }
   ],
   "source": [
    "plain=decrypt(cipher,key)\n",
    "print(plain)"
   ]
  },
  {
   "cell_type": "code",
   "execution_count": null,
   "id": "7fa6979e",
   "metadata": {},
   "outputs": [],
   "source": []
  },
  {
   "cell_type": "code",
   "execution_count": null,
   "id": "9745a052",
   "metadata": {},
   "outputs": [],
   "source": []
  },
  {
   "cell_type": "code",
   "execution_count": null,
   "id": "b8d61e95",
   "metadata": {},
   "outputs": [],
   "source": []
  }
 ],
 "metadata": {
  "kernelspec": {
   "display_name": "Python 3 (ipykernel)",
   "language": "python",
   "name": "python3"
  },
  "language_info": {
   "codemirror_mode": {
    "name": "ipython",
    "version": 3
   },
   "file_extension": ".py",
   "mimetype": "text/x-python",
   "name": "python",
   "nbconvert_exporter": "python",
   "pygments_lexer": "ipython3",
   "version": "3.9.13"
  }
 },
 "nbformat": 4,
 "nbformat_minor": 5
}
