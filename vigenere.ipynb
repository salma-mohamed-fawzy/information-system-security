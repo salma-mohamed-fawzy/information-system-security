{
 "cells": [
  {
   "cell_type": "code",
   "execution_count": 1,
   "id": "f5b11318",
   "metadata": {},
   "outputs": [
    {
     "data": {
      "text/plain": [
       "'SALMA'"
      ]
     },
     "execution_count": 1,
     "metadata": {},
     "output_type": "execute_result"
    }
   ],
   "source": [
    "def repeat (key , length):\n",
    "    result=''\n",
    "    n=len(key)\n",
    "    for i in range (length):\n",
    "        result+=key[i%n]\n",
    "    return result\n",
    "\n",
    "def value (char):\n",
    "    return ord(char)-ord('A')\n",
    "\n",
    "def letter (val):\n",
    "    return chr(val+ ord('A'))\n",
    "\n",
    "def encrypt (plaintext , key ): \n",
    "    key = repeat(key, len(plaintext))\n",
    "    ciphertext=''\n",
    "    for p , k in zip(plaintext, key ):\n",
    "        p_val=value(p)\n",
    "        k_val=value(k)\n",
    "        c_val=(p_val + k_val)%26\n",
    "        c=letter(c_val)\n",
    "        ciphertext+=c\n",
    "    return ciphertext\n",
    "    \n",
    "def decrypt (ciphertext , key ): \n",
    "    key = repeat(key, len(ciphertext))\n",
    "    plaintext=''\n",
    "    for c , k in zip(ciphertext, key ):\n",
    "        c_val=value(c)\n",
    "        k_val=value(k)\n",
    "        p_val=(c_val - k_val)%26\n",
    "        p=letter(p_val)\n",
    "        plaintext+=p\n",
    "    return plaintext\n",
    "    \n",
    "\n",
    "    \n",
    "message='SALMA'  \n",
    "key='AYA'\n",
    "encrypt(message,key)\n",
    "decrypt(\"SYLMY\", \"AYA\")"
   ]
  },
  {
   "cell_type": "code",
   "execution_count": null,
   "id": "26b4f3dc",
   "metadata": {},
   "outputs": [],
   "source": []
  }
 ],
 "metadata": {
  "kernelspec": {
   "display_name": "Python 3 (ipykernel)",
   "language": "python",
   "name": "python3"
  },
  "language_info": {
   "codemirror_mode": {
    "name": "ipython",
    "version": 3
   },
   "file_extension": ".py",
   "mimetype": "text/x-python",
   "name": "python",
   "nbconvert_exporter": "python",
   "pygments_lexer": "ipython3",
   "version": "3.9.13"
  }
 },
 "nbformat": 4,
 "nbformat_minor": 5
}
